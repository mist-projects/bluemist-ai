{
 "cells": [
  {
   "cell_type": "code",
   "execution_count": null,
   "id": "85be1971",
   "metadata": {},
   "outputs": [],
   "source": [
    "pip install bluemist"
   ]
  },
  {
   "cell_type": "code",
   "execution_count": null,
   "id": "c954e49a",
   "metadata": {},
   "outputs": [],
   "source": [
    "from bluemist.environment import initialize\n",
    "from bluemist.datasource import get_data_from_filesystem"
   ]
  },
  {
   "cell_type": "code",
   "execution_count": null,
   "id": "a6578acc",
   "metadata": {},
   "outputs": [],
   "source": [
    "initialize()\n",
    "data = get_data_from_filesystem('/path/to/file/filename.csv')"
   ]
  }
 ],
 "metadata": {
  "kernelspec": {
   "display_name": "Python 3 (ipykernel)",
   "language": "python",
   "name": "python3"
  },
  "language_info": {
   "codemirror_mode": {
    "name": "ipython",
    "version": 3
   },
   "file_extension": ".py",
   "mimetype": "text/x-python",
   "name": "python",
   "nbconvert_exporter": "python",
   "pygments_lexer": "ipython3",
   "version": "3.9.12"
  }
 },
 "nbformat": 4,
 "nbformat_minor": 5
}

{
 "cells": [
  {
   "cell_type": "code",
   "execution_count": null,
   "id": "85be1971",
   "metadata": {},
   "outputs": [],
   "source": [
    "pip install bluemist"
   ]
  },
  {
   "cell_type": "code",
   "execution_count": null,
   "id": "c954e49a",
   "metadata": {},
   "outputs": [],
   "source": [
    "from bluemist.environment import initialize\n",
    "from bluemist.datasource.database import get_data_from_database"
   ]
  },
  {
   "cell_type": "code",
   "execution_count": null,
   "id": "a6578acc",
   "metadata": {},
   "outputs": [],
   "source": [
    "initialize()\n",
    "\n",
    "## Get data from MySQL\n",
    "query = 'SELECT * FROM auto_mpg'\n",
    "data = get_data_from_database(db_type='mysql', host='dbHost:3306',\n",
    "                       username='username', password='password', database='dbName', \n",
    "                              query=query, chunk_size=100)\n",
    "\n",
    "## Get data from Postgres\n",
    "query = 'SELECT * FROM public.auto_mpg'\n",
    "data = get_data_from_database(db_type='postgres', host='dbHost:5432',\n",
    "                       username='username', password='password', database='dbName', \n",
    "                              query=query, chunk_size=100)\n",
    "\n",
    "## Get data from Aurora MS SQL\n",
    "query = 'SELECT * FROM dbo.auto_mpg'\n",
    "data = get_data_from_database(db_type='mssql', host='dbHost:1433',\n",
    "                       username='username', password='password', database='dbName', \n",
    "                              query=query, chunk_size=100)\n",
    "\n",
    "## Get data from Oracle\n",
    "query = 'SELECT * FROM AUTO_MPG'\n",
    "data = get_data_from_database(db_type='oracle', host='dbHost', \n",
    "                              username='username', password='password', \n",
    "                              service='serviceName',\n",
    "                              oracle_instant_client_path=\n",
    "                                  '/path/to/instantclient/instantclient',\n",
    "                              query=query, chunk_size=100)\n",
    "\n",
    "## Get data from MariaDB\n",
    "query = 'SELECT * FROM auto_mpg'\n",
    "data = get_data_from_database(db_type='mariadb', host='dbHost:3306',\n",
    "                       username='username', password='password', database='dbName', \n",
    "                              query=query, chunk_size=100)\n",
    "\n",
    "## Get data from AWS Aurora MySQL\n",
    "query = 'SELECT * FROM AUTO_MPG'\n",
    "data = get_data_from_database(db_type='aurora-mysql', host='dbHost:3306',\n",
    "                       username='username', password='password', database='dbName', \n",
    "                              query=query, chunk_size=100)\n",
    "\n",
    "## Get data from AWS Aurora Postgres\n",
    "query = 'SELECT * FROM public.auto_mpg'\n",
    "data = get_data_from_database(db_type='aurora-postgres', host='dbHost:5432',\n",
    "                       username='username', password='password', database='dbName', \n",
    "                              query=query, chunk_size=100)"
   ]
  }
 ],
 "metadata": {
  "kernelspec": {
   "display_name": "Python 3 (ipykernel)",
   "language": "python",
   "name": "python3"
  },
  "language_info": {
   "codemirror_mode": {
    "name": "ipython",
    "version": 3
   },
   "file_extension": ".py",
   "mimetype": "text/x-python",
   "name": "python",
   "nbconvert_exporter": "python",
   "pygments_lexer": "ipython3",
   "version": "3.9.12"
  }
 },
 "nbformat": 4,
 "nbformat_minor": 5
}

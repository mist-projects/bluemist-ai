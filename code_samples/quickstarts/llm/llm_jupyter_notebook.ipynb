{
 "cells": [
  {
   "cell_type": "code",
   "execution_count": null,
   "id": "b6b51489",
   "metadata": {},
   "outputs": [],
   "source": [
    "pip install -U bluemist[complete]"
   ]
  },
  {
   "cell_type": "code",
   "execution_count": null,
   "id": "b5fe75a0",
   "metadata": {},
   "outputs": [],
   "source": [
    "pip install torch torchvision torchaudio --index-url https://download.pytorch.org/whl/cpu"
   ]
  },
  {
   "cell_type": "code",
   "execution_count": 1,
   "id": "3c5b7345",
   "metadata": {},
   "outputs": [],
   "source": [
    "import warnings\n",
    "\n",
    "warnings.filterwarnings('ignore')"
   ]
  },
  {
   "cell_type": "code",
   "execution_count": 2,
   "id": "bad0cee0",
   "metadata": {},
   "outputs": [
    {
     "name": "stdout",
     "output_type": "stream",
     "text": [
      "Pytesseract version: 5.2.0\n"
     ]
    }
   ],
   "source": [
    "import pytesseract\n",
    "print(\"Pytesseract version:\", pytesseract.get_tesseract_version())"
   ]
  },
  {
   "cell_type": "code",
   "execution_count": 3,
   "id": "9c9cee62",
   "metadata": {},
   "outputs": [
    {
     "name": "stdout",
     "output_type": "stream",
     "text": [
      "TESSDATA_PREFIX: /home/shashank-agrawal/anaconda3/envs/bluemist-test-1/share/tessdata/\n",
      "TESSDATA_PREFIX: /home/shashank-agrawal/anaconda3/envs/bluemist-test-1/share/tessdata/\n",
      "['document-question-answering', 'question-answering', 'summarization', 'sentiment-analysis']\n"
     ]
    }
   ],
   "source": [
    "from bluemist.environment import initialize\n",
    "from bluemist.llm.task_models import TaskModels\n",
    "task_models = TaskModels()\n",
    "print(task_models.get_all_tasks())"
   ]
  },
  {
   "cell_type": "code",
   "execution_count": 4,
   "id": "56c7c8cc",
   "metadata": {},
   "outputs": [
    {
     "name": "stdout",
     "output_type": "stream",
     "text": [
      "\u001b[34m\n",
      "    ██████╗ ██╗     ██╗   ██╗███████╗███╗   ███╗██╗███████╗████████╗     █████╗ ██╗\n",
      "    ██╔══██╗██║     ██║   ██║██╔════╝████╗ ████║██║██╔════╝╚══██╔══╝    ██╔══██╗██║\n",
      "    ██████╔╝██║     ██║   ██║█████╗  ██╔████╔██║██║███████╗   ██║       ███████║██║\n",
      "    ██╔══██╗██║     ██║   ██║██╔══╝  ██║╚██╔╝██║██║╚════██║   ██║       ██╔══██║██║\n",
      "    ██████╔╝███████╗╚██████╔╝███████╗██║ ╚═╝ ██║██║███████║   ██║       ██║  ██║██║                                                                        \n",
      "                        (version 0.1.3 - WordCraft)\n",
      "    \u001b[0m\n",
      "Bluemist path :: /home/shashank-agrawal/anaconda3/envs/bluemist-test-1/lib/python3.9/site-packages/bluemist\n",
      "System platform :: posix, Linux, 6.2.0-35-generic, linux-x86_64, ('64bit', 'ELF')\n"
     ]
    }
   ],
   "source": [
    "from bluemist.llm.wrapper import perform_task\n",
    "initialize()"
   ]
  },
  {
   "cell_type": "code",
   "execution_count": 5,
   "id": "2fd87a54",
   "metadata": {},
   "outputs": [
    {
     "name": "stdout",
     "output_type": "stream",
     "text": [
      "Model :: impira/layoutlm-document-qa\n"
     ]
    },
    {
     "data": {
      "text/html": [
       "<div>\n",
       "<style scoped>\n",
       "    .dataframe tbody tr th:only-of-type {\n",
       "        vertical-align: middle;\n",
       "    }\n",
       "\n",
       "    .dataframe tbody tr th {\n",
       "        vertical-align: top;\n",
       "    }\n",
       "\n",
       "    .dataframe thead th {\n",
       "        text-align: right;\n",
       "    }\n",
       "</style>\n",
       "<table border=\"1\" class=\"dataframe\">\n",
       "  <thead>\n",
       "    <tr style=\"text-align: right;\">\n",
       "      <th></th>\n",
       "      <th>model</th>\n",
       "      <th>score</th>\n",
       "      <th>answer</th>\n",
       "      <th>start</th>\n",
       "      <th>end</th>\n",
       "    </tr>\n",
       "  </thead>\n",
       "  <tbody>\n",
       "    <tr>\n",
       "      <th>0</th>\n",
       "      <td>impira/layoutlm-document-qa</td>\n",
       "      <td>0.340383</td>\n",
       "      <td>us-001</td>\n",
       "      <td>16</td>\n",
       "      <td>16</td>\n",
       "    </tr>\n",
       "  </tbody>\n",
       "</table>\n",
       "</div>"
      ],
      "text/plain": [
       "                         model     score  answer  start  end\n",
       "0  impira/layoutlm-document-qa  0.340383  us-001     16   16"
      ]
     },
     "execution_count": 5,
     "metadata": {},
     "output_type": "execute_result"
    }
   ],
   "source": [
    "## Task - Document Question Answering ##\n",
    "\n",
    "task = \"document-question-answering\"\n",
    "\n",
    "image = \"https://templates.invoicehome.com/invoice-template-us-neat-750px.png\"\n",
    "\n",
    "question = \"What is the invoice number?\"\n",
    "\n",
    "df_document_question_answering = perform_task(task, input_data=image, question=question, limit=1)\n",
    "df_document_question_answering"
   ]
  },
  {
   "cell_type": "code",
   "execution_count": 6,
   "id": "0c090d59",
   "metadata": {},
   "outputs": [
    {
     "name": "stdout",
     "output_type": "stream",
     "text": [
      "Model :: distilbert-base-uncased-distilled-squad\n",
      "Model :: deepset/roberta-base-squad2\n",
      "Model :: Rakib/roberta-base-on-cuad\n",
      "Model :: deepset/bert-large-uncased-whole-word-masking-squad2\n",
      "Model :: distilbert-base-cased-distilled-squad\n"
     ]
    },
    {
     "data": {
      "text/html": [
       "<div>\n",
       "<style scoped>\n",
       "    .dataframe tbody tr th:only-of-type {\n",
       "        vertical-align: middle;\n",
       "    }\n",
       "\n",
       "    .dataframe tbody tr th {\n",
       "        vertical-align: top;\n",
       "    }\n",
       "\n",
       "    .dataframe thead th {\n",
       "        text-align: right;\n",
       "    }\n",
       "</style>\n",
       "<table border=\"1\" class=\"dataframe\">\n",
       "  <thead>\n",
       "    <tr style=\"text-align: right;\">\n",
       "      <th></th>\n",
       "      <th>model</th>\n",
       "      <th>score</th>\n",
       "      <th>start</th>\n",
       "      <th>end</th>\n",
       "      <th>answer</th>\n",
       "    </tr>\n",
       "  </thead>\n",
       "  <tbody>\n",
       "    <tr>\n",
       "      <th>0</th>\n",
       "      <td>distilbert-base-uncased-distilled-squad</td>\n",
       "      <td>0.556159</td>\n",
       "      <td>480</td>\n",
       "      <td>515</td>\n",
       "      <td>steam engine and the spinning jenny</td>\n",
       "    </tr>\n",
       "    <tr>\n",
       "      <th>1</th>\n",
       "      <td>deepset/roberta-base-squad2</td>\n",
       "      <td>0.542350</td>\n",
       "      <td>480</td>\n",
       "      <td>515</td>\n",
       "      <td>steam engine and the spinning jenny</td>\n",
       "    </tr>\n",
       "    <tr>\n",
       "      <th>2</th>\n",
       "      <td>Rakib/roberta-base-on-cuad</td>\n",
       "      <td>0.004189</td>\n",
       "      <td>0</td>\n",
       "      <td>25</td>\n",
       "      <td>The Industrial Revolution</td>\n",
       "    </tr>\n",
       "    <tr>\n",
       "      <th>3</th>\n",
       "      <td>deepset/bert-large-uncased-whole-word-masking-...</td>\n",
       "      <td>0.322402</td>\n",
       "      <td>480</td>\n",
       "      <td>515</td>\n",
       "      <td>steam engine and the spinning jenny</td>\n",
       "    </tr>\n",
       "    <tr>\n",
       "      <th>4</th>\n",
       "      <td>distilbert-base-cased-distilled-squad</td>\n",
       "      <td>0.481429</td>\n",
       "      <td>476</td>\n",
       "      <td>515</td>\n",
       "      <td>the steam engine and the spinning jenny</td>\n",
       "    </tr>\n",
       "  </tbody>\n",
       "</table>\n",
       "</div>"
      ],
      "text/plain": [
       "                                               model     score  start  end  \\\n",
       "0            distilbert-base-uncased-distilled-squad  0.556159    480  515   \n",
       "1                        deepset/roberta-base-squad2  0.542350    480  515   \n",
       "2                         Rakib/roberta-base-on-cuad  0.004189      0   25   \n",
       "3  deepset/bert-large-uncased-whole-word-masking-...  0.322402    480  515   \n",
       "4              distilbert-base-cased-distilled-squad  0.481429    476  515   \n",
       "\n",
       "                                    answer  \n",
       "0      steam engine and the spinning jenny  \n",
       "1      steam engine and the spinning jenny  \n",
       "2                The Industrial Revolution  \n",
       "3      steam engine and the spinning jenny  \n",
       "4  the steam engine and the spinning jenny  "
      ]
     },
     "execution_count": 6,
     "metadata": {},
     "output_type": "execute_result"
    }
   ],
   "source": [
    "## Task - Question Answering ##\n",
    "\n",
    "task = \"question-answering\"\n",
    "\n",
    "input = \"\"\"The Industrial Revolution, which began in the late 18th century, had a profound impact on society, \n",
    "transforming the way people lived and worked. One of the most significant changes brought about by the \n",
    "Industrial Revolution was the shift from agrarian economies to industrial economies. This transition resulted \n",
    "in the rapid growth of cities as people flocked to urban areas in search of employment in factories. \n",
    "The development of new machinery and technologies, such as the steam engine and the spinning jenny, r\n",
    "evolutionized manufacturing and led to increased productivity. However, the benefits of the Industrial Revolution \n",
    "were not evenly distributed, and many workers faced harsh working conditions, long hours, and low wages. \n",
    "The social and economic consequences of this era continue to shape our world today.\"\"\"\n",
    "\n",
    "question = \"\"\"What were the key technological innovations of the Industrial Revolution, \n",
    "and how did they impact both the economy and the lives of workers during that time?\"\"\"\n",
    "\n",
    "df_question_answering = perform_task(task, input_data=input, question=question, limit=5)\n",
    "df_question_answering"
   ]
  },
  {
   "cell_type": "code",
   "execution_count": 7,
   "id": "90c5f0e7",
   "metadata": {},
   "outputs": [
    {
     "name": "stdout",
     "output_type": "stream",
     "text": [
      "Model :: t5-small\n",
      "Model :: t5-base\n"
     ]
    },
    {
     "data": {
      "text/html": [
       "<style type=\"text/css\">\n",
       "#T_0348e_row0_col0, #T_0348e_row0_col1, #T_0348e_row1_col0, #T_0348e_row1_col1 {\n",
       "  text-align: left;\n",
       "}\n",
       "</style>\n",
       "<table id=\"T_0348e\">\n",
       "  <thead>\n",
       "    <tr>\n",
       "      <th class=\"blank level0\" >&nbsp;</th>\n",
       "      <th id=\"T_0348e_level0_col0\" class=\"col_heading level0 col0\" >model</th>\n",
       "      <th id=\"T_0348e_level0_col1\" class=\"col_heading level0 col1\" >summary_text</th>\n",
       "    </tr>\n",
       "  </thead>\n",
       "  <tbody>\n",
       "    <tr>\n",
       "      <th id=\"T_0348e_level0_row0\" class=\"row_heading level0 row0\" >0</th>\n",
       "      <td id=\"T_0348e_row0_col0\" class=\"data row0 col0\" >t5-small</td>\n",
       "      <td id=\"T_0348e_row0_col1\" class=\"data row0 col1\" >the Industrial Revolution began in the late 18th century . it transformed the way people lived and worked . many workers faced harsh working conditions, long hours, and low wages .</td>\n",
       "    </tr>\n",
       "    <tr>\n",
       "      <th id=\"T_0348e_level0_row1\" class=\"row_heading level0 row1\" >1</th>\n",
       "      <td id=\"T_0348e_row1_col0\" class=\"data row1 col0\" >t5-base</td>\n",
       "      <td id=\"T_0348e_row1_col1\" class=\"data row1 col1\" >the Industrial Revolution began in the late 18th century and had a profound impact on society . the shift from agrarian economies to industrial economies led to rapid growth of cities . many workers faced harsh working conditions, long hours, and low wages .</td>\n",
       "    </tr>\n",
       "  </tbody>\n",
       "</table>\n"
      ],
      "text/plain": [
       "<pandas.io.formats.style.Styler at 0x7ff9a70f6a60>"
      ]
     },
     "metadata": {},
     "output_type": "display_data"
    }
   ],
   "source": [
    "## Task - Summarization ##\n",
    "\n",
    "task = \"summarization\"\n",
    "\n",
    "input = \"\"\"The Industrial Revolution, which began in the late 18th century, had a profound impact on society, \n",
    "transforming the way people lived and worked. One of the most significant changes brought about by the \n",
    "Industrial Revolution was the shift from agrarian economies to industrial economies. This transition resulted \n",
    "in the rapid growth of cities as people flocked to urban areas in search of employment in factories. \n",
    "The development of new machinery and technologies, such as the steam engine and the spinning jenny, r\n",
    "evolutionized manufacturing and led to increased productivity. However, the benefits of the Industrial Revolution \n",
    "were not evenly distributed, and many workers faced harsh working conditions, long hours, and low wages. \n",
    "The social and economic consequences of this era continue to shape our world today.\"\"\"\n",
    "\n",
    "df_summarization = perform_task(task, input_data=input, limit=2)\n",
    "\n",
    "from pandas import option_context\n",
    "with option_context('display.max_colwidth', None):\n",
    "    display(df_summarization.style.set_properties(**{'text-align': 'left'}))"
   ]
  },
  {
   "cell_type": "code",
   "execution_count": 8,
   "id": "3fd9f0f0",
   "metadata": {},
   "outputs": [
    {
     "name": "stdout",
     "output_type": "stream",
     "text": [
      "Model :: lxyuan/distilbert-base-multilingual-cased-sentiments-student\n",
      "Model :: ProsusAI/finbert\n"
     ]
    },
    {
     "data": {
      "text/html": [
       "<div>\n",
       "<style scoped>\n",
       "    .dataframe tbody tr th:only-of-type {\n",
       "        vertical-align: middle;\n",
       "    }\n",
       "\n",
       "    .dataframe tbody tr th {\n",
       "        vertical-align: top;\n",
       "    }\n",
       "\n",
       "    .dataframe thead th {\n",
       "        text-align: right;\n",
       "    }\n",
       "</style>\n",
       "<table border=\"1\" class=\"dataframe\">\n",
       "  <thead>\n",
       "    <tr style=\"text-align: right;\">\n",
       "      <th></th>\n",
       "      <th>model</th>\n",
       "      <th>label</th>\n",
       "      <th>score</th>\n",
       "    </tr>\n",
       "  </thead>\n",
       "  <tbody>\n",
       "    <tr>\n",
       "      <th>0</th>\n",
       "      <td>lxyuan/distilbert-base-multilingual-cased-sent...</td>\n",
       "      <td>positive</td>\n",
       "      <td>0.534604</td>\n",
       "    </tr>\n",
       "    <tr>\n",
       "      <th>1</th>\n",
       "      <td>ProsusAI/finbert</td>\n",
       "      <td>positive</td>\n",
       "      <td>0.858109</td>\n",
       "    </tr>\n",
       "  </tbody>\n",
       "</table>\n",
       "</div>"
      ],
      "text/plain": [
       "                                               model     label     score\n",
       "0  lxyuan/distilbert-base-multilingual-cased-sent...  positive  0.534604\n",
       "1                                   ProsusAI/finbert  positive  0.858109"
      ]
     },
     "execution_count": 8,
     "metadata": {},
     "output_type": "execute_result"
    }
   ],
   "source": [
    "## Task - Sentiment Anaysis ##\n",
    "\n",
    "task = \"sentiment-analysis\"\n",
    "\n",
    "input = \"\"\"The new restaurant in town has been creating quite a buzz among food enthusiasts. \n",
    "The elegant decor, friendly staff, and a diverse menu with a wide range of culinary delights have been \n",
    "receiving rave reviews. Diners have been praising the exquisite flavors and presentation of the dishes. \n",
    "However, there have also been a few complaints about the wait times during peak hours. \n",
    "Overall, it seems that most customers are delighted with their dining experience and are looking forward \n",
    "to returning for more delicious meals.\"\"\"\n",
    "\n",
    "df_sentiment_analysis = perform_task(task, input_data=input, limit=2)\n",
    "df_sentiment_analysis"
   ]
  },
  {
   "cell_type": "code",
   "execution_count": null,
   "id": "207b94aa",
   "metadata": {},
   "outputs": [
    {
     "name": "stderr",
     "output_type": "stream",
     "text": [
      "INFO:     Started server process [19524]\n",
      "INFO:     Waiting for application startup.\n",
      "INFO:     Application startup complete.\n",
      "INFO:     Uvicorn running on http://localhost:8000 (Press CTRL+C to quit)\n"
     ]
    }
   ],
   "source": [
    "## Deploy as API ##\n",
    "\n",
    "from bluemist.llm import api_wrapper\n",
    "api_wrapper.start_api_server()"
   ]
  }
 ],
 "metadata": {
  "kernelspec": {
   "display_name": "Python 3 (ipykernel)",
   "language": "python",
   "name": "python3"
  },
  "language_info": {
   "codemirror_mode": {
    "name": "ipython",
    "version": 3
   },
   "file_extension": ".py",
   "mimetype": "text/x-python",
   "name": "python",
   "nbconvert_exporter": "python",
   "pygments_lexer": "ipython3",
   "version": "3.9.16"
  }
 },
 "nbformat": 4,
 "nbformat_minor": 5
}

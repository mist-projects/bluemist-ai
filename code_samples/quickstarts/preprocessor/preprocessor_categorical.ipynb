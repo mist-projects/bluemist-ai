{
 "cells": [
  {
   "cell_type": "code",
   "execution_count": null,
   "id": "d447bff1",
   "metadata": {},
   "outputs": [],
   "source": [
    "pip install bluemist-ai"
   ]
  },
  {
   "cell_type": "code",
   "execution_count": null,
   "id": "15e15d34",
   "metadata": {},
   "outputs": [],
   "source": [
    "from sklearn import datasets\n",
    "\n",
    "from bluemist.environment import initialize\n",
    "from bluemist.preprocessing import preprocess_data"
   ]
  },
  {
   "cell_type": "code",
   "execution_count": null,
   "id": "4d8dd4ba",
   "metadata": {},
   "outputs": [],
   "source": [
    "initialize()\n",
    "data = datasets.load_diabetes(as_frame=True)"
   ]
  },
  {
   "cell_type": "code",
   "execution_count": null,
   "id": "b9bb5b7f",
   "metadata": {},
   "outputs": [],
   "source": [
    "# Categorical encoding using OrdinalEncoder\n",
    "X_train, X_test, y_train, y_test = preprocess_data(data.frame, \n",
    "                                                   target_variable='target', \n",
    "                                                   test_size=0.25, \n",
    "                                                   data_scaling_strategy=None, \n",
    "                                                   categorical_features=['sex'], \n",
    "                                                   categorical_encoder='OrdinalEncoder')"
   ]
  },
  {
   "cell_type": "code",
   "execution_count": null,
   "id": "08dc1ad4",
   "metadata": {},
   "outputs": [],
   "source": [
    "# Categorical encoding using OneHotEncoder\n",
    "X_train, X_test, y_train, y_test = preprocess_data(data.frame, \n",
    "                                                   target_variable='target', \n",
    "                                                   test_size=0.25, \n",
    "                                                   data_scaling_strategy=None, \n",
    "                                                   categorical_features=['sex'], \n",
    "                                                   categorical_encoder='OneHotEncoder')"
   ]
  }
 ],
 "metadata": {
  "kernelspec": {
   "display_name": "Python 3 (ipykernel)",
   "language": "python",
   "name": "python3"
  },
  "language_info": {
   "codemirror_mode": {
    "name": "ipython",
    "version": 3
   },
   "file_extension": ".py",
   "mimetype": "text/x-python",
   "name": "python",
   "nbconvert_exporter": "python",
   "pygments_lexer": "ipython3",
   "version": "3.9.12"
  }
 },
 "nbformat": 4,
 "nbformat_minor": 5
}

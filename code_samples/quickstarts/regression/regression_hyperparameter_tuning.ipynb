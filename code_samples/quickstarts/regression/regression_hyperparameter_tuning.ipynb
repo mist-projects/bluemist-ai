{
 "cells": [
  {
   "cell_type": "code",
   "execution_count": 1,
   "id": "d447bff1",
   "metadata": {},
   "outputs": [],
   "source": [
    "pip install bluemist"
   ]
  },
  {
   "cell_type": "code",
   "execution_count": 2,
   "id": "15e15d34",
   "metadata": {},
   "outputs": [],
   "source": [
    "from sklearn import datasets\n",
    "\n",
    "from bluemist.environment import initialize\n",
    "from bluemist.preprocessing import preprocess_data\n",
    "from bluemist.regression import train_test_evaluate"
   ]
  },
  {
   "cell_type": "code",
   "execution_count": 3,
   "id": "4d8dd4ba",
   "metadata": {},
   "outputs": [
    {
     "name": "stdout",
     "output_type": "stream",
     "text": [
      "\u001b[34m\n",
      "██████╗ ██╗     ██╗   ██╗███████╗███╗   ███╗██╗███████╗████████╗     █████╗ ██╗\n",
      "██╔══██╗██║     ██║   ██║██╔════╝████╗ ████║██║██╔════╝╚══██╔══╝    ██╔══██╗██║\n",
      "██████╔╝██║     ██║   ██║█████╗  ██╔████╔██║██║███████╗   ██║       ███████║██║\n",
      "██╔══██╗██║     ██║   ██║██╔══╝  ██║╚██╔╝██║██║╚════██║   ██║       ██╔══██║██║\n",
      "██████╔╝███████╗╚██████╔╝███████╗██║ ╚═╝ ██║██║███████║   ██║       ██║  ██║██║                                                                        \n",
      "                                (version 0.1.1)\n",
      "    \u001b[0m\n",
      "Bluemist path :: /home/shashank-agrawal/PycharmProjects/bluemist-ai/bluemist\n",
      "System platform :: posix, Linux, 5.19.0-31-generic, linux-x86_64, ('64bit', 'ELF')\n"
     ]
    }
   ],
   "source": [
    "initialize()\n",
    "data = datasets.load_diabetes(as_frame=True)"
   ]
  },
  {
   "cell_type": "code",
   "execution_count": 4,
   "id": "08dc1ad4",
   "metadata": {},
   "outputs": [],
   "source": [
    "# Categorical encoding using OneHotEncoder\n",
    "X_train, X_test, y_train, y_test = preprocess_data(data.frame, \n",
    "                                                   target_variable='target', \n",
    "                                                   test_size=0.25, \n",
    "                                                   categorical_features=['sex'], \n",
    "                                                   categorical_encoder='OneHotEncoder')"
   ]
  },
  {
   "cell_type": "code",
   "execution_count": 5,
   "id": "9b08b2e9",
   "metadata": {},
   "outputs": [
    {
     "name": "stderr",
     "output_type": "stream",
     "text": [
      "Training RandomForestRegressor: 100%|\u001b[34m██████████\u001b[0m| 2/2 [00:39<00:00, 19.78s/it]\n"
     ]
    },
    {
     "data": {
      "text/html": [
       "<style type=\"text/css\">\n",
       "#T_781a2_row0_col0, #T_781a2_row0_col1, #T_781a2_row0_col2 {\n",
       "  background-color: green;\n",
       "}\n",
       "#T_781a2_row1_col0, #T_781a2_row1_col1, #T_781a2_row1_col2 {\n",
       "  background-color: yellow;\n",
       "}\n",
       "</style>\n",
       "<table id=\"T_781a2\">\n",
       "  <thead>\n",
       "    <tr>\n",
       "      <th class=\"blank level0\" >&nbsp;</th>\n",
       "      <th id=\"T_781a2_level0_col0\" class=\"col_heading level0 col0\" >mean_absolute_error</th>\n",
       "      <th id=\"T_781a2_level0_col1\" class=\"col_heading level0 col1\" >mean_squared_error</th>\n",
       "      <th id=\"T_781a2_level0_col2\" class=\"col_heading level0 col2\" >r2_score</th>\n",
       "    </tr>\n",
       "    <tr>\n",
       "      <th class=\"index_name level0\" >Estimator</th>\n",
       "      <th class=\"blank col0\" >&nbsp;</th>\n",
       "      <th class=\"blank col1\" >&nbsp;</th>\n",
       "      <th class=\"blank col2\" >&nbsp;</th>\n",
       "    </tr>\n",
       "  </thead>\n",
       "  <tbody>\n",
       "    <tr>\n",
       "      <th id=\"T_781a2_level0_row0\" class=\"row_heading level0 row0\" >ARDRegression</th>\n",
       "      <td id=\"T_781a2_row0_col0\" class=\"data row0 col0\" >48.261223</td>\n",
       "      <td id=\"T_781a2_row0_col1\" class=\"data row0 col1\" >3385.218639</td>\n",
       "      <td id=\"T_781a2_row0_col2\" class=\"data row0 col2\" >0.501549</td>\n",
       "    </tr>\n",
       "    <tr>\n",
       "      <th id=\"T_781a2_level0_row1\" class=\"row_heading level0 row1\" >RandomForestRegressor</th>\n",
       "      <td id=\"T_781a2_row1_col0\" class=\"data row1 col0\" >55.276451</td>\n",
       "      <td id=\"T_781a2_row1_col1\" class=\"data row1 col1\" >4180.607767</td>\n",
       "      <td id=\"T_781a2_row1_col2\" class=\"data row1 col2\" >0.384434</td>\n",
       "    </tr>\n",
       "  </tbody>\n",
       "</table>\n"
      ],
      "text/plain": [
       "<IPython.core.display.HTML object>"
      ]
     },
     "metadata": {},
     "output_type": "display_data"
    }
   ],
   "source": [
    "# Train and compare models\n",
    "train_test_evaluate(X_train, X_test, y_train, y_test, \n",
    "                    tune_models=['ARDRegression', 'RandomForestRegressor'])"
   ]
  }
 ],
 "metadata": {
  "kernelspec": {
   "display_name": "Python 3 (ipykernel)",
   "language": "python",
   "name": "python3"
  },
  "language_info": {
   "codemirror_mode": {
    "name": "ipython",
    "version": 3
   },
   "file_extension": ".py",
   "mimetype": "text/x-python",
   "name": "python",
   "nbconvert_exporter": "python",
   "pygments_lexer": "ipython3",
   "version": "3.9.12"
  }
 },
 "nbformat": 4,
 "nbformat_minor": 5
}

{
 "cells": [
  {
   "cell_type": "code",
   "execution_count": null,
   "id": "f9b56336",
   "metadata": {},
   "outputs": [],
   "source": [
    "pip install bluemist"
   ]
  },
  {
   "cell_type": "code",
   "execution_count": null,
   "id": "15e15d34",
   "metadata": {},
   "outputs": [],
   "source": [
    "from sklearn import datasets\n",
    "\n",
    "from bluemist.environment import initialize\n",
    "from bluemist.eda import perform_eda"
   ]
  },
  {
   "cell_type": "code",
   "execution_count": null,
   "id": "a01589b9",
   "metadata": {},
   "outputs": [],
   "source": [
    "initialize()\n",
    "data = datasets.load_diabetes(as_frame=True)\n",
    "perform_eda(data.frame, provider='dtale')\n",
    "\n",
    "## dtale UI will open in the browser after analysis is completed !! ##"
   ]
  }
 ],
 "metadata": {
  "kernelspec": {
   "display_name": "Python 3 (ipykernel)",
   "language": "python",
   "name": "python3"
  },
  "language_info": {
   "codemirror_mode": {
    "name": "ipython",
    "version": 3
   },
   "file_extension": ".py",
   "mimetype": "text/x-python",
   "name": "python",
   "nbconvert_exporter": "python",
   "pygments_lexer": "ipython3",
   "version": "3.9.12"
  }
 },
 "nbformat": 4,
 "nbformat_minor": 5
}

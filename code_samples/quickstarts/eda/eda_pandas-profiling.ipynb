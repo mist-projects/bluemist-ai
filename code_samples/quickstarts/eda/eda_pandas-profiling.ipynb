{
 "cells": [
  {
   "cell_type": "code",
   "execution_count": null,
   "id": "85be1971",
   "metadata": {},
   "outputs": [],
   "source": [
    "pip install bluemist"
   ]
  },
  {
   "cell_type": "code",
   "execution_count": null,
   "id": "c954e49a",
   "metadata": {},
   "outputs": [],
   "source": [
    "from sklearn import datasets\n",
    "\n",
    "from bluemist.environment import initialize\n",
    "from bluemist.eda import perform_eda"
   ]
  },
  {
   "cell_type": "code",
   "execution_count": null,
   "id": "a6578acc",
   "metadata": {},
   "outputs": [],
   "source": [
    "initialize()\n",
    "data = datasets.load_diabetes(as_frame=True)\n",
    "perform_eda(data.frame, provider='pandas-profiling')\n",
    "\n",
    "## Output file will be opened in the browser after analysis is completed !! ##"
   ]
  }
 ],
 "metadata": {
  "kernelspec": {
   "display_name": "Python 3 (ipykernel)",
   "language": "python",
   "name": "python3"
  },
  "language_info": {
   "codemirror_mode": {
    "name": "ipython",
    "version": 3
   },
   "file_extension": ".py",
   "mimetype": "text/x-python",
   "name": "python",
   "nbconvert_exporter": "python",
   "pygments_lexer": "ipython3",
   "version": "3.9.12"
  }
 },
 "nbformat": 4,
 "nbformat_minor": 5
}
